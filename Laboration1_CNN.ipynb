{
  "nbformat": 4,
  "nbformat_minor": 0,
  "metadata": {
    "colab": {
      "name": "Laboration1_CNN.ipynb",
      "provenance": [],
      "collapsed_sections": [],
      "toc_visible": true,
      "authorship_tag": "ABX9TyOCOAjHDxi/5MwI5YKiDe30",
      "include_colab_link": true
    },
    "kernelspec": {
      "name": "python3",
      "display_name": "Python 3"
    },
    "language_info": {
      "name": "python"
    },
    "accelerator": "GPU"
  },
  "cells": [
    {
      "cell_type": "markdown",
      "metadata": {
        "id": "view-in-github",
        "colab_type": "text"
      },
      "source": [
        "<a href=\"https://colab.research.google.com/github/Ylvu/DeepLearning/blob/main/Laboration1_CNN.ipynb\" target=\"_parent\"><img src=\"https://colab.research.google.com/assets/colab-badge.svg\" alt=\"Open In Colab\"/></a>"
      ]
    },
    {
      "cell_type": "markdown",
      "metadata": {
        "id": "HBPLbKNJgyLZ"
      },
      "source": [
        "**Laboration Faltningsnät (CNN)**\n",
        "Ylva Öckerman"
      ]
    },
    {
      "cell_type": "markdown",
      "metadata": {
        "id": "tkqAC9A0JKJk"
      },
      "source": [
        "# Förberedelser\n",
        "\n",
        "*   Importera bibliotek\n",
        "*   Import dataset\n",
        "*   Lägga till namn på klasser"
      ]
    },
    {
      "cell_type": "code",
      "metadata": {
        "id": "ZYG99clnzapJ"
      },
      "source": [
        "import tensorflow as tf\n",
        "import numpy as np\n",
        "import matplotlib.pyplot as plt\n",
        "import seaborn as sns\n",
        "\n",
        "from tensorflow import keras\n",
        "from tensorflow.keras import layers\n",
        "\n",
        "#from tensorflow.keras import *\n",
        "from tensorflow.keras.models import Sequential\n",
        "from tensorflow.keras.layers import Activation, Dense, Flatten, Conv2D, MaxPooling2D\n",
        "from tensorflow.keras.optimizers import Adam, SGD\n",
        "#from tensorflow.keras.metrics import sparse_categorical_crossentropy, SparseCategoricalCrossentropy\n",
        "\n",
        "fashion_mnist = tf.keras.datasets.fashion_mnist\n",
        "(train_images, train_labels), (test_images, test_labels) = fashion_mnist.load_data()\n",
        "\n",
        "\n",
        "class_names = ['T-shirt/top', 'Trouser', 'Pullover', 'Dress', 'Coat',\n",
        "               'Sandal', 'Shirt', 'Sneaker', 'Bag', 'Ankle boot']\n",
        "\n"
      ],
      "execution_count": 1,
      "outputs": []
    },
    {
      "cell_type": "markdown",
      "metadata": {
        "id": "HtwLU-oJfmme"
      },
      "source": [
        "\n",
        "Förbereder data\n",
        "*   Skalar om värdena så att de är i storleksordning 0-1 och är float\n",
        "*   Delar upp data i valideringsdata (10000 bilder) och träningsdata (60000 bilder)\n",
        "*   Skriver ut hur många bilder som är i varje kategori\n",
        "\n",
        "\n",
        "\n"
      ]
    },
    {
      "cell_type": "code",
      "metadata": {
        "colab": {
          "base_uri": "https://localhost:8080/"
        },
        "id": "d4tc6Vxhes5x",
        "outputId": "9fbef581-71e1-4128-b13d-5edbab67a588"
      },
      "source": [
        "train_images = train_images / 255.0\n",
        "test_images = test_images / 255.0\n",
        "\n",
        "val_images = train_images[:10000]\n",
        "val_labels = train_labels[:10000]\n",
        "train_labels = train_labels[10000:]\n",
        "train_images = train_images[10000:]\n",
        "\n",
        "print('Train:       images %s, labels %s' % (train_images.shape, train_labels.shape))\n",
        "print('Validation:  images %s, labels %s' % (val_images.shape, val_labels.shape))\n",
        "print('Test:        images %s, labels %s' % (test_images.shape, test_labels.shape))\n"
      ],
      "execution_count": 2,
      "outputs": [
        {
          "output_type": "stream",
          "name": "stdout",
          "text": [
            "Train:       images (50000, 28, 28), labels (50000,)\n",
            "Validation:  images (10000, 28, 28), labels (10000,)\n",
            "Test:        images (10000, 28, 28), labels (10000,)\n"
          ]
        }
      ]
    },
    {
      "cell_type": "markdown",
      "metadata": {
        "id": "5WUWJdxP9yyZ"
      },
      "source": [
        "Plotta hur många labels av respektive typ som finns i varje kategori. Detta för att försäkra mig om att det inte blivit ojämn fördelning då training-data delades upp i validation och train."
      ]
    },
    {
      "cell_type": "code",
      "metadata": {
        "colab": {
          "base_uri": "https://localhost:8080/",
          "height": 761
        },
        "id": "MusYnmADepwJ",
        "outputId": "21c5d959-e557-49bd-fc5c-ec3462ac2049"
      },
      "source": [
        "plt.figure()\n",
        "train_plot = sns.countplot(x=train_labels)\n",
        "plt.figure()\n",
        "val_plot = sns.countplot(x=val_labels)\n",
        "plt.figure()\n",
        "test_plot = sns.countplot(x=test_labels)"
      ],
      "execution_count": 55,
      "outputs": [
        {
          "output_type": "display_data",
          "data": {
            "image/png": "[encoded data removed]",
            "text/plain": [
              "<Figure size 432x288 with 1 Axes>"
            ]
          },
          "metadata": {
            "needs_background": "light"
          }
        },
        {
          "output_type": "display_data",
          "data": {
            "image/png": "[encoded data removed]",
            "text/plain": [
              "<Figure size 432x288 with 1 Axes>"
            ]
          },
          "metadata": {
            "needs_background": "light"
          }
        },
        {
          "output_type": "display_data",
          "data": {
            "image/png": "[encoded data removed]",
            "text/plain": [
              "<Figure size 432x288 with 1 Axes>"
            ]
          },
          "metadata": {
            "needs_background": "light"
          }
        }
      ]
    },
    {
      "cell_type": "markdown",
      "metadata": {
        "id": "fVyvLobCZ-SL"
      },
      "source": [
        "# Modell 1\n",
        "*   Conv2D och Maxpooling2D minskar bilderna samtidigt som de behåller detaljer/features. Det ger snabbare behandling + gör så att det är lättare att känna igen en viss feature oavsett var i bilden den finns.\n",
        "*   Har två lager:\n",
        "*   Relu släpper igenom positiva värden\n",
        "*   Softmax kommer att välja det största värdet och ignorera resten, vilket är lämpligt på det sista lagret som ska avgöra kategori\n",
        "\n",
        "\n",
        "*   Optimizern Stochastic Gradient används\n",
        "*   Learning rate har jag testat 0.01, 0.005, 0.002, 0.001, 0.0005. Default (0.001) har gett bäst noggrannhet på 10 epoker.\n",
        "*   Momentum tillåter att riktningen återanvänds från tidigare steg på något vis (grafen över noggranheten  blir jämnare), det gav bättre noggranhet än utan.\n",
        "\n",
        "\n",
        "\n"
      ]
    },
    {
      "cell_type": "code",
      "metadata": {
        "colab": {
          "base_uri": "https://localhost:8080/"
        },
        "id": "hWkZYx7Hakq4",
        "outputId": "fd8ed617-c597-4403-ebf2-7cac9da36a82"
      },
      "source": [
        "model1 = Sequential()\n",
        "model1.add(Conv2D(32, (3, 3), activation='relu', kernel_initializer='he_uniform', input_shape=(28, 28, 1)))\n",
        "model1.add(MaxPooling2D((2, 2)))\n",
        "\n",
        "model1.add(Flatten()) #flatten to 1D-array\n",
        "model1.add(Dense(150, activation='relu', kernel_initializer='he_uniform'))\n",
        "model1.add(Dense(10, activation='softmax')) #softmax \n",
        "\n",
        "\n",
        "model1.compile(\n",
        "    optimizer=SGD(momentum=0.9),\n",
        "    loss='sparse_categorical_crossentropy', \n",
        "    metrics=['accuracy']\n",
        ")\n",
        "\n",
        "model1.summary()\n",
        "\n",
        "history1 = model1.fit(train_images, train_labels, epochs=10, batch_size=32, validation_data=(val_images, val_labels), verbose=2)\n",
        "\n",
        "test_loss, test_acc = model1.evaluate(test_images,  test_labels, verbose=2)\n",
        "print('\\nTest accuracy:', test_acc)"
      ],
      "execution_count": 32,
      "outputs": [
        {
          "output_type": "stream",
          "name": "stdout",
          "text": [
            "Model: \"sequential_23\"\n",
            "_________________________________________________________________\n",
            " Layer (type)                Output Shape              Param #   \n",
            "=================================================================\n",
            " conv2d_16 (Conv2D)          (None, 26, 26, 32)        320       \n",
            "                                                                 \n",
            " max_pooling2d_16 (MaxPoolin  (None, 13, 13, 32)       0         \n",
            " g2D)                                                            \n",
            "                                                                 \n",
            " flatten_23 (Flatten)        (None, 5408)              0         \n",
            "                                                                 \n",
            " dense_46 (Dense)            (None, 150)               811350    \n",
            "                                                                 \n",
            " dense_47 (Dense)            (None, 10)                1510      \n",
            "                                                                 \n",
            "=================================================================\n",
            "Total params: 813,180\n",
            "Trainable params: 813,180\n",
            "Non-trainable params: 0\n",
            "_________________________________________________________________\n",
            "Epoch 1/10\n",
            "1563/1563 - 7s - loss: 0.4465 - accuracy: 0.8396 - val_loss: 0.3357 - val_accuracy: 0.8790 - 7s/epoch - 4ms/step\n",
            "Epoch 2/10\n",
            "1563/1563 - 6s - loss: 0.2967 - accuracy: 0.8916 - val_loss: 0.2815 - val_accuracy: 0.8975 - 6s/epoch - 4ms/step\n",
            "Epoch 3/10\n",
            "1563/1563 - 6s - loss: 0.2539 - accuracy: 0.9064 - val_loss: 0.2873 - val_accuracy: 0.8992 - 6s/epoch - 4ms/step\n",
            "Epoch 4/10\n",
            "1563/1563 - 7s - loss: 0.2243 - accuracy: 0.9173 - val_loss: 0.2558 - val_accuracy: 0.9033 - 7s/epoch - 4ms/step\n",
            "Epoch 5/10\n",
            "1563/1563 - 6s - loss: 0.1988 - accuracy: 0.9274 - val_loss: 0.2486 - val_accuracy: 0.9128 - 6s/epoch - 4ms/step\n",
            "Epoch 6/10\n",
            "1563/1563 - 7s - loss: 0.1799 - accuracy: 0.9343 - val_loss: 0.2469 - val_accuracy: 0.9113 - 7s/epoch - 4ms/step\n",
            "Epoch 7/10\n",
            "1563/1563 - 6s - loss: 0.1615 - accuracy: 0.9398 - val_loss: 0.2450 - val_accuracy: 0.9107 - 6s/epoch - 4ms/step\n",
            "Epoch 8/10\n",
            "1563/1563 - 6s - loss: 0.1456 - accuracy: 0.9467 - val_loss: 0.2510 - val_accuracy: 0.9085 - 6s/epoch - 4ms/step\n",
            "Epoch 9/10\n",
            "1563/1563 - 6s - loss: 0.1330 - accuracy: 0.9509 - val_loss: 0.2730 - val_accuracy: 0.9100 - 6s/epoch - 4ms/step\n",
            "Epoch 10/10\n",
            "1563/1563 - 6s - loss: 0.1166 - accuracy: 0.9576 - val_loss: 0.2606 - val_accuracy: 0.9134 - 6s/epoch - 4ms/step\n",
            "313/313 - 1s - loss: 0.2850 - accuracy: 0.9106 - 867ms/epoch - 3ms/step\n",
            "\n",
            "Test accuracy: 0.9106000065803528\n"
          ]
        }
      ]
    },
    {
      "cell_type": "code",
      "metadata": {
        "colab": {
          "base_uri": "https://localhost:8080/",
          "height": 281
        },
        "id": "BLFfzTK02PCq",
        "outputId": "4cbb24a3-1c6d-4130-9eef-b91fc1322468"
      },
      "source": [
        "plt.subplot(111)\n",
        "plt.title('Accuracy')\n",
        "plt.grid()\n",
        "plt.plot(history1.history['accuracy'], label='train')\n",
        "plt.plot(history1.history['val_accuracy'], label='test')\n",
        "plt.legend()\n",
        "plt.show()"
      ],
      "execution_count": 51,
      "outputs": [
        {
          "output_type": "display_data",
          "data": {
            "image/png": "[encoded data removed]",
            "text/plain": [
              "<Figure size 432x288 with 1 Axes>"
            ]
          },
          "metadata": {
            "needs_background": "light"
          }
        }
      ]
    },
    {
      "cell_type": "markdown",
      "metadata": {
        "id": "aSiXQjbbmGG5"
      },
      "source": [
        "# Modell 2\n",
        "Likadan som modell 1, men använder optimizer Adam istället.\n",
        "Även här har jag testat olika värden på learning rate (0.01, 0.005, 0.002, 0.001, 0.0005), men default har gett bäst resultat."
      ]
    },
    {
      "cell_type": "code",
      "metadata": {
        "colab": {
          "base_uri": "https://localhost:8080/"
        },
        "id": "jd_kcpEu_rYn",
        "outputId": "09105d84-d453-477f-8f24-0855ccf01e06"
      },
      "source": [
        "model2 = Sequential([\n",
        "    Conv2D(32, (3, 3), activation='relu', kernel_initializer='he_uniform', input_shape=(28, 28, 1)),\n",
        "    MaxPooling2D((2, 2)),\n",
        "    Flatten(input_shape=(28, 28)),\n",
        "    Dense(128, activation='relu'),\n",
        "    # Dense(64), #det här extra lagret bidrog ingenting\n",
        "    Dense(10, activation='softmax')\n",
        "])\n",
        "\n",
        "model2.summary()\n",
        "\n",
        "model2.compile(optimizer=Adam(),\n",
        "              loss='sparse_categorical_crossentropy',\n",
        "              metrics=['accuracy'])\n",
        "\n",
        "history2 = model2.fit(train_images, train_labels, epochs=10, batch_size=32, validation_data=(val_images, val_labels), verbose=2)\n",
        "\n",
        "test_loss, test_acc = model2.evaluate(test_images, test_labels,  verbose=2)\n",
        "print('\\nTest accuracy:', test_acc)"
      ],
      "execution_count": 31,
      "outputs": [
        {
          "output_type": "stream",
          "name": "stdout",
          "text": [
            "Model: \"sequential_22\"\n",
            "_________________________________________________________________\n",
            " Layer (type)                Output Shape              Param #   \n",
            "=================================================================\n",
            " conv2d_15 (Conv2D)          (None, 26, 26, 32)        320       \n",
            "                                                                 \n",
            " max_pooling2d_15 (MaxPoolin  (None, 13, 13, 32)       0         \n",
            " g2D)                                                            \n",
            "                                                                 \n",
            " flatten_22 (Flatten)        (None, 5408)              0         \n",
            "                                                                 \n",
            " dense_44 (Dense)            (None, 128)               692352    \n",
            "                                                                 \n",
            " dense_45 (Dense)            (None, 10)                1290      \n",
            "                                                                 \n",
            "=================================================================\n",
            "Total params: 693,962\n",
            "Trainable params: 693,962\n",
            "Non-trainable params: 0\n",
            "_________________________________________________________________\n",
            "Epoch 1/10\n",
            "1563/1563 - 7s - loss: 0.3853 - accuracy: 0.8607 - val_loss: 0.2867 - val_accuracy: 0.8960 - 7s/epoch - 5ms/step\n",
            "Epoch 2/10\n",
            "1563/1563 - 6s - loss: 0.2551 - accuracy: 0.9065 - val_loss: 0.2833 - val_accuracy: 0.8971 - 6s/epoch - 4ms/step\n",
            "Epoch 3/10\n",
            "1563/1563 - 6s - loss: 0.2118 - accuracy: 0.9212 - val_loss: 0.2588 - val_accuracy: 0.9062 - 6s/epoch - 4ms/step\n",
            "Epoch 4/10\n",
            "1563/1563 - 6s - loss: 0.1798 - accuracy: 0.9334 - val_loss: 0.2578 - val_accuracy: 0.9100 - 6s/epoch - 4ms/step\n",
            "Epoch 5/10\n",
            "1563/1563 - 6s - loss: 0.1527 - accuracy: 0.9437 - val_loss: 0.2404 - val_accuracy: 0.9150 - 6s/epoch - 4ms/step\n",
            "Epoch 6/10\n",
            "1563/1563 - 7s - loss: 0.1290 - accuracy: 0.9526 - val_loss: 0.2589 - val_accuracy: 0.9135 - 7s/epoch - 4ms/step\n",
            "Epoch 7/10\n",
            "1563/1563 - 7s - loss: 0.1096 - accuracy: 0.9592 - val_loss: 0.2511 - val_accuracy: 0.9187 - 7s/epoch - 4ms/step\n",
            "Epoch 8/10\n",
            "1563/1563 - 6s - loss: 0.0930 - accuracy: 0.9666 - val_loss: 0.2833 - val_accuracy: 0.9163 - 6s/epoch - 4ms/step\n",
            "Epoch 9/10\n",
            "1563/1563 - 7s - loss: 0.0794 - accuracy: 0.9712 - val_loss: 0.2927 - val_accuracy: 0.9159 - 7s/epoch - 4ms/step\n",
            "Epoch 10/10\n",
            "1563/1563 - 7s - loss: 0.0675 - accuracy: 0.9757 - val_loss: 0.3197 - val_accuracy: 0.9147 - 7s/epoch - 4ms/step\n",
            "313/313 - 1s - loss: 0.3506 - accuracy: 0.9077 - 820ms/epoch - 3ms/step\n",
            "\n",
            "Test accuracy: 0.9077000021934509\n"
          ]
        }
      ]
    },
    {
      "cell_type": "code",
      "metadata": {
        "colab": {
          "base_uri": "https://localhost:8080/",
          "height": 281
        },
        "id": "x1jDk2Yn2JBk",
        "outputId": "8042a04c-5bf9-4be7-9395-37d035241281"
      },
      "source": [
        "plt.subplot(111)\n",
        "plt.title('Accuracy')\n",
        "plt.grid()\n",
        "plt.plot(history2.history['accuracy'], label='train')\n",
        "plt.plot(history2.history['val_accuracy'], label='validation')\n",
        "plt.legend()\n",
        "plt.show()"
      ],
      "execution_count": 48,
      "outputs": [
        {
          "output_type": "display_data",
          "data": {
            "image/png": "[encoded data removed]",
            "text/plain": [
              "<Figure size 432x288 with 1 Axes>"
            ]
          },
          "metadata": {
            "needs_background": "light"
          }
        }
      ]
    },
    {
      "cell_type": "markdown",
      "metadata": {
        "id": "K3Vm9n49lTPL"
      },
      "source": [
        "# Modell 3\n",
        "Modellen är likadan som modell två, förutom att den saknar Conv2D och Maxpooling2D. Det blir en skillnad i noggrannhet. Modell 3 når **inte** 90%"
      ]
    },
    {
      "cell_type": "code",
      "metadata": {
        "colab": {
          "base_uri": "https://localhost:8080/"
        },
        "id": "RtXCCNyUU_hT",
        "outputId": "6ae7beba-92ed-477b-db5e-493e69f51b35"
      },
      "source": [
        "model3 = Sequential([\n",
        "  Flatten(), \n",
        "  Dense(128, activation=tf.nn.relu), \n",
        "  Dense(10, activation=tf.nn.softmax)\n",
        "  ])\n",
        "\n",
        "model3.compile(optimizer = Adam(),\n",
        "              loss='sparse_categorical_crossentropy',\n",
        "              metrics=['accuracy'])\n",
        "\n",
        "history3 = model3.fit(train_images, train_labels, epochs=10, batch_size=32, validation_data=(val_images, val_labels), verbose=2)\n",
        "\n",
        "test_loss, test_acc = model3.evaluate(test_images, test_labels,  verbose=2)\n",
        "print('\\nTest accuracy:', test_acc)\n"
      ],
      "execution_count": 33,
      "outputs": [
        {
          "output_type": "stream",
          "name": "stdout",
          "text": [
            "Epoch 1/10\n",
            "1563/1563 - 6s - loss: 0.5175 - accuracy: 0.8185 - val_loss: 0.4238 - val_accuracy: 0.8493 - 6s/epoch - 4ms/step\n",
            "Epoch 2/10\n",
            "1563/1563 - 5s - loss: 0.3871 - accuracy: 0.8621 - val_loss: 0.3931 - val_accuracy: 0.8527 - 5s/epoch - 3ms/step\n",
            "Epoch 3/10\n",
            "1563/1563 - 4s - loss: 0.3478 - accuracy: 0.8736 - val_loss: 0.3517 - val_accuracy: 0.8713 - 4s/epoch - 3ms/step\n",
            "Epoch 4/10\n",
            "1563/1563 - 4s - loss: 0.3224 - accuracy: 0.8825 - val_loss: 0.3230 - val_accuracy: 0.8830 - 4s/epoch - 3ms/step\n",
            "Epoch 5/10\n",
            "1563/1563 - 4s - loss: 0.3010 - accuracy: 0.8902 - val_loss: 0.3110 - val_accuracy: 0.8852 - 4s/epoch - 3ms/step\n",
            "Epoch 6/10\n",
            "1563/1563 - 5s - loss: 0.2845 - accuracy: 0.8944 - val_loss: 0.3125 - val_accuracy: 0.8810 - 5s/epoch - 3ms/step\n",
            "Epoch 7/10\n",
            "1563/1563 - 4s - loss: 0.2727 - accuracy: 0.8984 - val_loss: 0.3105 - val_accuracy: 0.8848 - 4s/epoch - 3ms/step\n",
            "Epoch 8/10\n",
            "1563/1563 - 4s - loss: 0.2617 - accuracy: 0.9023 - val_loss: 0.3167 - val_accuracy: 0.8842 - 4s/epoch - 3ms/step\n",
            "Epoch 9/10\n",
            "1563/1563 - 5s - loss: 0.2504 - accuracy: 0.9073 - val_loss: 0.3229 - val_accuracy: 0.8873 - 5s/epoch - 3ms/step\n",
            "Epoch 10/10\n",
            "1563/1563 - 4s - loss: 0.2398 - accuracy: 0.9108 - val_loss: 0.3128 - val_accuracy: 0.8871 - 4s/epoch - 3ms/step\n",
            "313/313 - 1s - loss: 0.3560 - accuracy: 0.8717 - 651ms/epoch - 2ms/step\n",
            "\n",
            "Test accuracy: 0.8716999888420105\n"
          ]
        }
      ]
    },
    {
      "cell_type": "code",
      "metadata": {
        "colab": {
          "base_uri": "https://localhost:8080/",
          "height": 281
        },
        "id": "xVqkysjV2X0d",
        "outputId": "a97885ce-6619-4e10-d096-1dfa3eedc374"
      },
      "source": [
        "plt.subplot(111)\n",
        "plt.title('Accuracy')\n",
        "plt.grid()\n",
        "plt.plot(history3.history['accuracy'], label='train')\n",
        "plt.plot(history3.history['val_accuracy'], label='validation')\n",
        "plt.legend()\n",
        "plt.show()"
      ],
      "execution_count": 50,
      "outputs": [
        {
          "output_type": "display_data",
          "data": {
            "image/png": "[encoded data removed]",
            "text/plain": [
              "<Figure size 432x288 with 1 Axes>"
            ]
          },
          "metadata": {
            "needs_background": "light"
          }
        }
      ]
    }
  ]
}